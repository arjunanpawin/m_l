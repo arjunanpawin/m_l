{
  "nbformat": 4,
  "nbformat_minor": 0,
  "metadata": {
    "colab": {
      "provenance": [],
      "authorship_tag": "ABX9TyPFr0DUvDgkeJwaSmpddX84",
      "include_colab_link": true
    },
    "kernelspec": {
      "name": "python3",
      "display_name": "Python 3"
    },
    "language_info": {
      "name": "python"
    }
  },
  "cells": [
    {
      "cell_type": "markdown",
      "metadata": {
        "id": "view-in-github",
        "colab_type": "text"
      },
      "source": [
        "<a href=\"https://colab.research.google.com/github/arjunanpawin/m_l/blob/main/movie_review_analysis.ipynb\" target=\"_parent\"><img src=\"https://colab.research.google.com/assets/colab-badge.svg\" alt=\"Open In Colab\"/></a>"
      ]
    },
    {
      "cell_type": "code",
      "execution_count": null,
      "metadata": {
        "colab": {
          "base_uri": "https://localhost:8080/"
        },
        "id": "JjkMKvjYIs22",
        "outputId": "875b5425-48f5-414b-da73-c9eb14ba5af7"
      },
      "outputs": [
        {
          "output_type": "stream",
          "name": "stderr",
          "text": [
            "[nltk_data] Downloading package punkt to /root/nltk_data...\n",
            "[nltk_data]   Unzipping tokenizers/punkt.zip.\n",
            "[nltk_data] Downloading package stopwords to /root/nltk_data...\n",
            "[nltk_data]   Unzipping corpora/stopwords.zip.\n",
            "[nltk_data] Downloading package brown to /root/nltk_data...\n",
            "[nltk_data]   Unzipping corpora/brown.zip.\n"
          ]
        },
        {
          "output_type": "stream",
          "name": "stdout",
          "text": [
            "Review 1:\n",
            "Corrected Review: I absolutely loved this movie! The acting was superb and the storyline was captivating.\n",
            "Sentiment: Neutral\n",
            "Keywords: []\n",
            "\n",
            "Review 2:\n",
            "Corrected Review: The movie was terrible. The plot was weak and the acting was mediocre at best.\n",
            "Sentiment: Neutral\n",
            "Keywords: []\n",
            "\n",
            "Review 3:\n",
            "Corrected Review: It was an okay movie. Nothing special, but it wasn't terrible either.\n",
            "Sentiment: Neutral\n",
            "Keywords: ['okay movie', \"n't terrible\"]\n",
            "\n",
            "Review 4:\n",
            "Corrected Review: I was pleasantly surprised by how good this movie was. Definitely worth watching.\n",
            "Sentiment: Positive\n",
            "Keywords: ['definitely']\n",
            "\n",
            "Overall Insights:\n",
            "\n",
            "In the sample of 4 movie reviews, the sentiment analysis revealed that 1 reviews were classified as positive (25.00%), while 0 reviews were classified as negative (0.00%). The keywords extracted from the reviews provide insights into the main themes and topics discussed.\n"
          ]
        }
      ],
      "source": [
        "import nltk\n",
        "from nltk.tokenize import word_tokenize\n",
        "from nltk.corpus import stopwords\n",
        "from nltk.stem import PorterStemmer\n",
        "from textblob import TextBlob  # For spelling correction\n",
        "\n",
        "\n",
        "nltk.download('punkt')\n",
        "nltk.download('stopwords')\n",
        "nltk.download('brown')\n",
        "\n",
        "\n",
        "positive_words = ['good', 'great', 'excellent', 'wonderful', 'awesome']\n",
        "negative_words = ['bad', 'poor', 'terrible', 'awful', 'horrible']\n",
        "def analyze_sentiment(review):\n",
        "    tokens = word_tokenize(review.lower())\n",
        "    stop_words = set(stopwords.words('english'))\n",
        "    filtered_tokens = [word for word in tokens if word not in stop_words]\n",
        "    porter = PorterStemmer()\n",
        "    stemmed_tokens = [porter.stem(word) for word in filtered_tokens]\n",
        "    # Count positive and negative words\n",
        "    positive_count = sum(stemmed_tokens.count(pos_word) for pos_word in positive_words)\n",
        "    negative_count = sum(stemmed_tokens.count(neg_word) for neg_word in negative_words)\n",
        "\n",
        "    if positive_count > negative_count:\n",
        "        return 'Positive'\n",
        "    elif negative_count > positive_count:\n",
        "        return 'Negative'\n",
        "    else:\n",
        "        return 'Neutral'\n",
        "\n",
        "# Function to extract keywords from a single review\n",
        "def extract_keywords(review):\n",
        "    blob = TextBlob(review)\n",
        "    return blob.noun_phrases  # Extract noun phrases as keywords\n",
        "\n",
        "# Sample movie reviews\n",
        "reviews = [\n",
        "    \"I absolutly loved this movie! The actng was superb and the storyline was captivating.\",\n",
        "    \"The movie was terible. The plot was weak and the acting was mediocre at best.\",\n",
        "    \"It was an okay movie. Nothing special, but it wasn't terrible either.\",\n",
        "    \"I was pleasantly surprised by how good this movie was. Definitely worth watching.\"\n",
        "]\n",
        "\n",
        "# Lists to store sentiment results\n",
        "sentiments = []\n",
        "positive_counts = 0\n",
        "negative_counts = 0\n",
        "\n",
        "# Analyze sentiment and extract keywords of each review\n",
        "for i, review in enumerate(reviews):\n",
        "    # Correct spelling\n",
        "    review_blob = TextBlob(review)\n",
        "    review_corrected = str(review_blob.correct())\n",
        "\n",
        "    # Analyze sentiment\n",
        "    sentiment = analyze_sentiment(review_corrected)\n",
        "    sentiments.append(sentiment)\n",
        "\n",
        "    # Count positive and negative reviews\n",
        "    if sentiment == 'Positive':\n",
        "        positive_counts += 1\n",
        "    elif sentiment == 'Negative':\n",
        "        negative_counts += 1\n",
        "\n",
        "    # Extract keywords\n",
        "    keywords = extract_keywords(review_corrected)\n",
        "\n",
        "    print(f\"Review {i+1}:\")\n",
        "    print(f\"Corrected Review: {review_corrected}\")\n",
        "    print(f\"Sentiment: {sentiment}\")\n",
        "    print(f\"Keywords: {keywords}\")\n",
        "    print()\n",
        "\n",
        "\n",
        "# Calculate overall insights\n",
        "total_reviews = len(reviews)\n",
        "positive_proportion = positive_counts / total_reviews\n",
        "negative_proportion = negative_counts / total_reviews\n",
        "\n",
        "# Generate insights paragraph\n",
        "insights_paragraph = f\"In the sample of {total_reviews} movie reviews, the sentiment analysis revealed that \"\n",
        "insights_paragraph += f\"{positive_counts} reviews were classified as positive ({positive_proportion*100:.2f}%), \"\n",
        "insights_paragraph += f\"while {negative_counts} reviews were classified as negative ({negative_proportion*100:.2f}%). \"\n",
        "insights_paragraph += \"The keywords extracted from the reviews provide insights into the main themes and topics discussed.\"\n",
        "\n",
        "print(\"Overall Insights:\\n\")\n",
        "print(insights_paragraph)"
      ]
    }
  ]
}