{
  "nbformat": 4,
  "nbformat_minor": 0,
  "metadata": {
    "colab": {
      "provenance": [],
      "authorship_tag": "ABX9TyNCd7/MNjrS8lo13/tqCAQ6",
      "include_colab_link": true
    },
    "kernelspec": {
      "name": "python3",
      "display_name": "Python 3"
    },
    "language_info": {
      "name": "python"
    }
  },
  "cells": [
    {
      "cell_type": "markdown",
      "metadata": {
        "id": "view-in-github",
        "colab_type": "text"
      },
      "source": [
        "<a href=\"https://colab.research.google.com/github/arjunanpawin/m_l/blob/main/pos_Tagging.ipynb\" target=\"_parent\"><img src=\"https://colab.research.google.com/assets/colab-badge.svg\" alt=\"Open In Colab\"/></a>"
      ]
    },
    {
      "cell_type": "code",
      "execution_count": null,
      "metadata": {
        "id": "AD-Elo03SB81",
        "outputId": "17e9a5a6-049e-40de-c053-b5282e1a99e0",
        "colab": {
          "base_uri": "https://localhost:8080/"
        }
      },
      "outputs": [
        {
          "output_type": "stream",
          "name": "stdout",
          "text": [
            "Enter the path to the text file: /content/paw.txt\n",
            "Coarse-grained POS tagging:\n",
            "[('hi', 'INTJ'), ('br', 'PROPN'), ('o', 'NOUN'), ('how', 'SCONJ'), ('are', 'AUX'), ('you', 'PRON')]\n",
            "\n",
            "Fine-grained POS tagging:\n",
            "[('hi', 'UH'), ('br', 'NNP'), ('o', 'NN'), ('how', 'WRB'), ('are', 'VBP'), ('you', 'PRP')]\n"
          ]
        }
      ],
      "source": [
        "import spacy\n",
        "\n",
        "# Load English tokenizer, tagger, parser, NER, and word vectors\n",
        "nlp = spacy.load(\"en_core_web_sm\")\n",
        "\n",
        "# Function to read text from a file\n",
        "def read_text_from_file(file_path):\n",
        "    with open(file_path, \"r\") as file:\n",
        "        text = file.read()\n",
        "    return text\n",
        "\n",
        "# Function to perform NLP operations on text\n",
        "def perform_nlp_operations(text):\n",
        "    # Process the text with spaCy NLP pipeline\n",
        "    doc = nlp(text)\n",
        "\n",
        "    # Coarse-grained POS tagging\n",
        "    coarse_pos_tags = [(token.text, token.pos_) for token in doc]\n",
        "    print(\"Coarse-grained POS tagging:\")\n",
        "    print(coarse_pos_tags)\n",
        "\n",
        "    # Fine-grained POS tagging\n",
        "    fine_pos_tags = [(token.text, token.tag_) for token in doc]\n",
        "    print(\"\\nFine-grained POS tagging:\")\n",
        "    print(fine_pos_tags)\n",
        "\n",
        "# Main function\n",
        "def main():\n",
        "    file_path = input(\"Enter the path to the text file: \")\n",
        "    text = read_text_from_file(file_path)\n",
        "    perform_nlp_operations(text)\n",
        "\n",
        "if __name__ == \"__main__\":\n",
        "    main()"
      ]
    }
  ]
}