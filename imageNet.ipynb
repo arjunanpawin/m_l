{
  "nbformat": 4,
  "nbformat_minor": 0,
  "metadata": {
    "colab": {
      "provenance": [],
      "authorship_tag": "ABX9TyMLrk9bcN+MTBg9W90HzJu5",
      "include_colab_link": true
    },
    "kernelspec": {
      "name": "python3",
      "display_name": "Python 3"
    },
    "language_info": {
      "name": "python"
    }
  },
  "cells": [
    {
      "cell_type": "markdown",
      "metadata": {
        "id": "view-in-github",
        "colab_type": "text"
      },
      "source": [
        "<a href=\"https://colab.research.google.com/github/arjunanpawin/m_l/blob/main/imageNet.ipynb\" target=\"_parent\"><img src=\"https://colab.research.google.com/assets/colab-badge.svg\" alt=\"Open In Colab\"/></a>"
      ]
    },
    {
      "cell_type": "code",
      "execution_count": null,
      "metadata": {
        "id": "PHikOuQ5xjZH"
      },
      "outputs": [],
      "source": [
        "import numpy as np\n",
        "import matplotlib.pyplot as plt\n",
        "from IPython.display import Image, display\n",
        "from tensorflow.keras.preprocessing import image\n",
        "from tensorflow.keras.applications import (ResNet50, VGG16, InceptionV3, Xception, MobileNet)\n",
        "from tensorflow.keras.applications.imagenet_utils import preprocess_input, decode_predictions"
      ]
    },
    {
      "cell_type": "code",
      "source": [
        "# Step 1: Load a pre-trained model\n",
        "# Choose one of the pre-trained models, e.g., ResNet50\n",
        "model = ResNet50(weights='imagenet')"
      ],
      "metadata": {
        "id": "whDOimcoxnU9"
      },
      "execution_count": null,
      "outputs": []
    },
    {
      "cell_type": "code",
      "source": [
        "\n",
        "# Step 2: Preprocess the input image(s)\n",
        "def preprocess_image(image_path):\n",
        "    img = image.load_img(image_path, target_size=(224, 224))\n",
        "    img_array = image.img_to_array(img)\n",
        "    img_array = np.expand_dims(img_array, axis=0)\n",
        "    img_preprocessed = preprocess_input(img_array)\n",
        "    return img_preprocessed"
      ],
      "metadata": {
        "id": "4VSR2ujQxvPr"
      },
      "execution_count": null,
      "outputs": []
    },
    {
      "cell_type": "code",
      "source": [
        "\n",
        "# Step 3: Call the model's predict() method to generate predictions\n",
        "def predict_image(image_path, model):\n",
        "    img_preprocessed = preprocess_image(image_path)\n",
        "    predictions = model.predict(img_preprocessed)\n",
        "    return predictions"
      ],
      "metadata": {
        "id": "BPHoasCTxvSS"
      },
      "execution_count": null,
      "outputs": []
    },
    {
      "cell_type": "code",
      "source": [
        "# Step 4: Decode the predictions\n",
        "def decode_predictions_with_labels(predictions):\n",
        "    decoded_predictions = decode_predictions(predictions, top=5)[0]\n",
        "    for _, label, score in decoded_predictions:\n",
        "        print(f\"{label}: {score:.2f}\")"
      ],
      "metadata": {
        "id": "yy3sPZThxvU8"
      },
      "execution_count": null,
      "outputs": []
    },
    {
      "cell_type": "code",
      "source": [
        "# Step 5: Read Sample Images\n",
        "# You can replace these with your own image paths\n",
        "image_paths = ['images1.jpg', 'images2.jpg', 'images3.jpg']\n",
        "# Step 6: Display Sample Images\n",
        "def display_images_colab(image_paths):\n",
        "    for i, path in enumerate(image_paths):\n",
        "        display(Image(filename='/content/images1.jpeg'))\n",
        "\n",
        "# Use it to display images\n",
        "display_images_colab(image_paths)"
      ],
      "metadata": {
        "colab": {
          "base_uri": "https://localhost:8080/",
          "height": 566
        },
        "id": "9EoW2D7MxvaE",
        "outputId": "8fa4c727-7f58-479b-b7aa-f7a0568d5a78"
      },
      "execution_count": null,
      "outputs": [
        {
          "output_type": "display_data",
          "data": {
            "image/jpeg": "[encoded data removed]",
            "text/plain": [
              "<IPython.core.display.Image object>"
            ]
          },
          "metadata": {}
        },
        {
          "output_type": "display_data",
          "data": {
            "image/jpeg": "[encoded data removed]",
            "text/plain": [
              "<IPython.core.display.Image object>"
            ]
          },
          "metadata": {}
        },
        {
          "output_type": "display_data",
          "data": {
            "image/jpeg": "[encoded data removed]",
            "text/plain": [
              "<IPython.core.display.Image object>"
            ]
          },
          "metadata": {}
        }
      ]
    },
    {
      "cell_type": "markdown",
      "source": [
        "# New Section"
      ],
      "metadata": {
        "id": "y96iTV4jyIyF"
      }
    },
    {
      "cell_type": "code",
      "source": [
        "# Step 8: Create a Convenience Function for Batch Processing\n",
        "def batch_predict_images(image_paths, model):\n",
        "    predictions = []\n",
        "    for path in image_paths:\n",
        "        preds = predict_image('/content/images1.jpeg', model)\n",
        "        predictions.append(preds)\n",
        "    return predictions\n",
        "# Step 9: Make Predictions using the Pre-Trained Models\n",
        "predictions = batch_predict_images(image_paths, model)"
      ],
      "metadata": {
        "colab": {
          "base_uri": "https://localhost:8080/"
        },
        "id": "QijqQNKHxvca",
        "outputId": "b8c0727f-6a4d-4d6e-e271-3282d9b72d27"
      },
      "execution_count": null,
      "outputs": [
        {
          "output_type": "stream",
          "name": "stdout",
          "text": [
            "1/1 [==============================] - 1s 1s/step\n",
            "1/1 [==============================] - 0s 203ms/step\n",
            "1/1 [==============================] - 0s 202ms/step\n"
          ]
        }
      ]
    },
    {
      "cell_type": "code",
      "source": [
        "# Print the decoded predictions\n",
        "for i, preds in enumerate(predictions):\n",
        "    print(f\"Predictions for Image {i + 1}:\")\n",
        "    decode_predictions_with_labels(preds)\n",
        "    print()"
      ],
      "metadata": {
        "colab": {
          "base_uri": "https://localhost:8080/"
        },
        "id": "tJpl3iwsx_o6",
        "outputId": "86a962cd-af25-4f90-b761-0f8c51d83b64"
      },
      "execution_count": null,
      "outputs": [
        {
          "output_type": "stream",
          "name": "stdout",
          "text": [
            "Predictions for Image 1:\n",
            "Downloading data from https://storage.googleapis.com/download.tensorflow.org/data/imagenet_class_index.json\n",
            "35363/35363 [==============================] - 0s 0us/step\n",
            "car_wheel: 0.20\n",
            "minivan: 0.15\n",
            "convertible: 0.12\n",
            "grille: 0.10\n",
            "sports_car: 0.09\n",
            "\n",
            "Predictions for Image 2:\n",
            "car_wheel: 0.20\n",
            "minivan: 0.15\n",
            "convertible: 0.12\n",
            "grille: 0.10\n",
            "sports_car: 0.09\n",
            "\n",
            "Predictions for Image 3:\n",
            "car_wheel: 0.20\n",
            "minivan: 0.15\n",
            "convertible: 0.12\n",
            "grille: 0.10\n",
            "sports_car: 0.09\n",
            "\n"
          ]
        }
      ]
    },
    {
      "cell_type": "code",
      "source": [],
      "metadata": {
        "id": "Xr1S-_9Tx_ro"
      },
      "execution_count": null,
      "outputs": []
    }
  ]
}